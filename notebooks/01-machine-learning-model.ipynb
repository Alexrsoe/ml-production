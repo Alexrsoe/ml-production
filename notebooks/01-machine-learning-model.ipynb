{
 "cells": [
  {
   "cell_type": "code",
   "execution_count": null,
   "metadata": {},
   "outputs": [],
   "source": [
    "%load_ext autoreload\n",
    "%autoreload 2"
   ]
  },
  {
   "cell_type": "code",
   "execution_count": null,
   "metadata": {},
   "outputs": [],
   "source": [
    "import logging\n",
    "import matplotlib.pyplot as plt\n",
    "import numpy as np\n",
    "import os\n",
    "import seaborn as sns\n",
    "import sklearn \n",
    "import pandas as pd\n",
    "\n",
    "import shelter\n",
    "from shelter.config import data_dir\n",
    "\n",
    "logging.basicConfig(level=logging.WARN)\n",
    "logger = logging.getLogger(__name__)\n",
    "\n",
    "%matplotlib inline"
   ]
  },
  {
   "cell_type": "markdown",
   "metadata": {},
   "source": [
    "# Machine Learning Model"
   ]
  },
  {
   "cell_type": "markdown",
   "metadata": {},
   "source": [
    "In this hackathon we'll try to predict the outcome of animals (adoption, etc.) at the Austin Animal Center using intake data (breed, age, etc.).\n",
    "We'll use the data from [this Kaggle competition](https://www.kaggle.com/c/shelter-animal-outcomes).\n",
    "At the end of the hackathon you should be able to send your own submission to Kaggle!\n",
    "\n",
    "Make sure you've followed the instructions from the `README.md`.\n",
    "You will probably encounter some problems if you won't!\n",
    "\n",
    "To start, read the documentation on the [Kaggle competition](https://www.kaggle.com/c/shelter-animal-outcomes) and download the [data](https://www.kaggle.com/c/shelter-animal-outcomes/data).\n",
    "Unzip the data in the folder `data/`.\n",
    "There should be (at least) three files: `sample_submission.csv`, `train.csv` and `test.csv`.\n",
    "\n",
    "Mac users may have some problems with some of the files: not all files may have a correct extension, so you may have to add a `.gz`.\n",
    "(Ask the instructors if you get any weird errors.)"
   ]
  },
  {
   "cell_type": "markdown",
   "metadata": {},
   "source": [
    "Load the data with the functions from our own `shelter` package:"
   ]
  },
  {
   "cell_type": "code",
   "execution_count": null,
   "metadata": {
    "scrolled": false
   },
   "outputs": [],
   "source": [
    "train = shelter.data.load_data(os.path.join(data_dir, 'train.csv'))\n",
    "test = shelter.data.load_data(os.path.join(data_dir, 'test.csv'))\n",
    "\n",
    "train.head()"
   ]
  },
  {
   "cell_type": "markdown",
   "metadata": {},
   "source": [
    "Let's check how often each outcome occurs:"
   ]
  },
  {
   "cell_type": "code",
   "execution_count": null,
   "metadata": {
    "scrolled": false
   },
   "outputs": [],
   "source": [
    "n_per_outcome = train['outcome_type'].value_counts()\n",
    "ax = n_per_outcome.plot(kind='bar', rot=45)\n",
    "ax.set_ylabel('# animals')\n",
    "ax.set_title('Occurrence of outcome types')"
   ]
  },
  {
   "cell_type": "markdown",
   "metadata": {
    "collapsed": true
   },
   "source": [
    "Now that you've got the data, try to create a model that predict the `outcome_type` given the intake data.\n",
    "Our final metric is the [multi-class logarithmic loss]https://www.kaggle.com/c/shelter-animal-outcomes#evaluation over all classes.\n",
    "\n",
    "> #### Tips\n",
    "> \n",
    "* Start with exploring the data and building your first hypotheses.\n",
    "What is the input data? \n",
    "Are there any missing values? \n",
    "What do you think will predict the outcome type? \n",
    "* Know what random performance looks like.\n",
    "Create a baseline model that randomly predicts one outcome type given their occurrences.\n",
    "Check the [`DummyClassifier`](http://scikit-learn.org/stable/modules/generated/sklearn.dummy.DummyClassifier.html)\n",
    "* `sklearn` doesn't work with string values, you probably want to look at [`pd.get_dummies()`](https://pandas.pydata.org/pandas-docs/stable/generated/pandas.get_dummies.html), `sklearn`'s [`LabelEncoder`](http://scikit-learn.org/stable/modules/preprocessing_targets.html) or [`OneHotEncoder`](http://scikit-learn.org/stable/modules/preprocessing.html#encoding-categorical-features) to convert the strings to numeric values.\n",
    "* Try to a create model that predicts only one outcome type (e.g. `Adoption`) before focussing on all outcomes.\n",
    "* `sklearn` has many models for [supervised learning](http://scikit-learn.org/stable/supervised_learning.html), try to find one that fits the problem.\n",
    "* Look at [Kaggle Kernels](https://www.kaggle.com/c/shelter-animal-outcomes/kernels) for inspiration.\n",
    "* You will get better performance with some [feature engineering](https://machinelearningmastery.com/discover-feature-engineering-how-to-engineer-features-and-how-to-get-good-at-it/).\n",
    "* Once you got your first model working, generate predictions for `test.csv` and submit it on Kaggle."
   ]
  },
  {
   "cell_type": "code",
   "execution_count": null,
   "metadata": {
    "collapsed": true,
    "scrolled": false
   },
   "outputs": [],
   "source": []
  }
 ],
 "metadata": {
  "kernelspec": {
   "display_name": "Python [conda env:ml-production]",
   "language": "python",
   "name": "conda-env-ml-production-py"
  },
  "language_info": {
   "codemirror_mode": {
    "name": "ipython",
    "version": 3
   },
   "file_extension": ".py",
   "mimetype": "text/x-python",
   "name": "python",
   "nbconvert_exporter": "python",
   "pygments_lexer": "ipython3",
   "version": "3.6.2"
  }
 },
 "nbformat": 4,
 "nbformat_minor": 2
}
